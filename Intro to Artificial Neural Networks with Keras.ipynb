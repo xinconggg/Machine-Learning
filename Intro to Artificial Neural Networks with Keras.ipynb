{
  "nbformat": 4,
  "nbformat_minor": 0,
  "metadata": {
    "colab": {
      "provenance": [],
      "authorship_tag": "ABX9TyP2+xfAyKGn7aBd62A9Z+5t",
      "include_colab_link": true
    },
    "kernelspec": {
      "name": "python3",
      "display_name": "Python 3"
    },
    "language_info": {
      "name": "python"
    }
  },
  "cells": [
    {
      "cell_type": "markdown",
      "metadata": {
        "id": "view-in-github",
        "colab_type": "text"
      },
      "source": [
        "<a href=\"https://colab.research.google.com/github/xinconggg/Machine-Learning/blob/main/Intro%20to%20Artificial%20Neural%20Networks%20with%20Keras.ipynb\" target=\"_parent\"><img src=\"https://colab.research.google.com/assets/colab-badge.svg\" alt=\"Open In Colab\"/></a>"
      ]
    },
    {
      "cell_type": "markdown",
      "source": [
        "## Implementing Multi-Layer Perceptrons (MLPs) with Keras\n",
        "### Building an Image Classifier using the Sequential API\n",
        "#### Using Keras to load the dataset\n",
        "`Keras` will be used to fetch and load common datasets\n",
        " including MNIST, Fashion MNIST and a few more. First, load Fashion MNIST, which is already shuffled and split into a training set (first 60,000) and test test (last 10,1000). However, the last 5,000 images from the training set will be used for validation."
      ],
      "metadata": {
        "id": "4HuP9M_YRILx"
      }
    },
    {
      "cell_type": "code",
      "execution_count": 1,
      "metadata": {
        "id": "gbAZKezrQ5gm"
      },
      "outputs": [],
      "source": [
        "import tensorflow as tf\n",
        "\n",
        "fashion_mnist = tf.keras.datasets.fashion_mnist.load_data()\n",
        "(X_train_full, y_train_full), (X_test, y_test) = fashion_mnist\n",
        "X_train, y_train = X_train_full[:-5000], y_train_full[:-5000] # Select all except for the last 5,000 images\n",
        "X_valid, y_valid = X_train_full[-5000:], y_train_full[-5000:] # Select last 5,000 images onwards"
      ]
    },
    {
      "cell_type": "markdown",
      "source": [
        "One key difference between using `Keras` instead of `Scikit-Learn` to load MNIST or Fashion MNIST is that every image is represented as a 28 x 28 array instead of a 1D array of size 784."
      ],
      "metadata": {
        "id": "2yDxuV27Ufvo"
      }
    },
    {
      "cell_type": "markdown",
      "source": [
        "The pixel values in the Fashion MNIST dataset are integers between 0 and 255. Neural networks typically perform better when inputs are normalized to a range of\n",
        "[0,1]. Add normalization as follows:"
      ],
      "metadata": {
        "id": "0QCb6_gShYMU"
      }
    },
    {
      "cell_type": "code",
      "source": [
        "X_train, X_valid, X_test = X_train / 255.0, X_valid / 255.0, X_test / 255.0"
      ],
      "metadata": {
        "id": "5nsbUjqDhi7i"
      },
      "execution_count": 2,
      "outputs": []
    },
    {
      "cell_type": "markdown",
      "source": [
        "For Fashion MNIST, we need the list of class names to know what we are dealing with:"
      ],
      "metadata": {
        "id": "lPVJCBwRVU5V"
      }
    },
    {
      "cell_type": "code",
      "source": [
        "class_names = [\"T-shirt/top\", \"Trouser\", \"Pullover\", \"Dress\", \"Coat\",\n",
        "               \"Sandal\", \"Shirt\", \"Sneaker\", \"Bag\", \"Ankle boot\"]"
      ],
      "metadata": {
        "id": "XZ0pRj9aUbWu"
      },
      "execution_count": 3,
      "outputs": []
    },
    {
      "cell_type": "markdown",
      "source": [
        "#### Creating the model using Sequential API\n",
        "Create a Classification MLP with 2 hidden layers:"
      ],
      "metadata": {
        "id": "bAHjN23LV4Re"
      }
    },
    {
      "cell_type": "code",
      "source": [
        "tf.random.set_seed(42)\n",
        "\n",
        "model = tf.keras.Sequential([\n",
        "    tf.keras.layers.Flatten(input_shape=[28, 28]), # Builds the Input and Flatten layer, Keras needs to know the shape of the inputs to determine the shape of the connection weight matrix of the 1st hidden layer then Flatten layer which converts each input image into a 1D array\n",
        "    tf.keras.layers.Dense(300, activation=\"relu\"), # 1st Hidden layer (a Dense layer) with 300 neurons, by using the ReLU activation function\n",
        "    tf.keras.layers.Dense(100, activation=\"relu\"), # 2nd Hidden layer (a Dense layer) with 100 neurons, also by using the ReLU activation function\n",
        "    tf.keras.layers.Dense(10, activation=\"softmax\") # Output layer (a Dense layer) with 10 neurons, using the softmax activation function because the classes are exclusive\n",
        "])"
      ],
      "metadata": {
        "colab": {
          "base_uri": "https://localhost:8080/"
        },
        "id": "8qwbqt7KVqDR",
        "outputId": "08e7ffd4-c5b7-4b37-cbd6-799ee3bdcc02"
      },
      "execution_count": 4,
      "outputs": [
        {
          "output_type": "stream",
          "name": "stderr",
          "text": [
            "/usr/local/lib/python3.10/dist-packages/keras/src/layers/reshaping/flatten.py:37: UserWarning: Do not pass an `input_shape`/`input_dim` argument to a layer. When using Sequential models, prefer using an `Input(shape)` object as the first layer in the model instead.\n",
            "  super().__init__(**kwargs)\n"
          ]
        }
      ]
    },
    {
      "cell_type": "markdown",
      "source": [
        "The model's `summary` method displays all the model's layers, including each layer's name, output shape and its number of parameters:"
      ],
      "metadata": {
        "id": "PoEpXEblY_PN"
      }
    },
    {
      "cell_type": "code",
      "source": [
        "model.summary()"
      ],
      "metadata": {
        "colab": {
          "base_uri": "https://localhost:8080/",
          "height": 272
        },
        "id": "R8whm8ezWUW9",
        "outputId": "d3de2531-921b-4374-b83d-a5724f96323f"
      },
      "execution_count": 5,
      "outputs": [
        {
          "output_type": "display_data",
          "data": {
            "text/plain": [
              "\u001b[1mModel: \"sequential\"\u001b[0m\n"
            ],
            "text/html": [
              "<pre style=\"white-space:pre;overflow-x:auto;line-height:normal;font-family:Menlo,'DejaVu Sans Mono',consolas,'Courier New',monospace\"><span style=\"font-weight: bold\">Model: \"sequential\"</span>\n",
              "</pre>\n"
            ]
          },
          "metadata": {}
        },
        {
          "output_type": "display_data",
          "data": {
            "text/plain": [
              "┏━━━━━━━━━━━━━━━━━━━━━━━━━━━━━━━━━━━━━━┳━━━━━━━━━━━━━━━━━━━━━━━━━━━━━┳━━━━━━━━━━━━━━━━━┓\n",
              "┃\u001b[1m \u001b[0m\u001b[1mLayer (type)                        \u001b[0m\u001b[1m \u001b[0m┃\u001b[1m \u001b[0m\u001b[1mOutput Shape               \u001b[0m\u001b[1m \u001b[0m┃\u001b[1m \u001b[0m\u001b[1m        Param #\u001b[0m\u001b[1m \u001b[0m┃\n",
              "┡━━━━━━━━━━━━━━━━━━━━━━━━━━━━━━━━━━━━━━╇━━━━━━━━━━━━━━━━━━━━━━━━━━━━━╇━━━━━━━━━━━━━━━━━┩\n",
              "│ flatten (\u001b[38;5;33mFlatten\u001b[0m)                    │ (\u001b[38;5;45mNone\u001b[0m, \u001b[38;5;34m784\u001b[0m)                 │               \u001b[38;5;34m0\u001b[0m │\n",
              "├──────────────────────────────────────┼─────────────────────────────┼─────────────────┤\n",
              "│ dense (\u001b[38;5;33mDense\u001b[0m)                        │ (\u001b[38;5;45mNone\u001b[0m, \u001b[38;5;34m300\u001b[0m)                 │         \u001b[38;5;34m235,500\u001b[0m │\n",
              "├──────────────────────────────────────┼─────────────────────────────┼─────────────────┤\n",
              "│ dense_1 (\u001b[38;5;33mDense\u001b[0m)                      │ (\u001b[38;5;45mNone\u001b[0m, \u001b[38;5;34m100\u001b[0m)                 │          \u001b[38;5;34m30,100\u001b[0m │\n",
              "├──────────────────────────────────────┼─────────────────────────────┼─────────────────┤\n",
              "│ dense_2 (\u001b[38;5;33mDense\u001b[0m)                      │ (\u001b[38;5;45mNone\u001b[0m, \u001b[38;5;34m10\u001b[0m)                  │           \u001b[38;5;34m1,010\u001b[0m │\n",
              "└──────────────────────────────────────┴─────────────────────────────┴─────────────────┘\n"
            ],
            "text/html": [
              "<pre style=\"white-space:pre;overflow-x:auto;line-height:normal;font-family:Menlo,'DejaVu Sans Mono',consolas,'Courier New',monospace\">┏━━━━━━━━━━━━━━━━━━━━━━━━━━━━━━━━━━━━━━┳━━━━━━━━━━━━━━━━━━━━━━━━━━━━━┳━━━━━━━━━━━━━━━━━┓\n",
              "┃<span style=\"font-weight: bold\"> Layer (type)                         </span>┃<span style=\"font-weight: bold\"> Output Shape                </span>┃<span style=\"font-weight: bold\">         Param # </span>┃\n",
              "┡━━━━━━━━━━━━━━━━━━━━━━━━━━━━━━━━━━━━━━╇━━━━━━━━━━━━━━━━━━━━━━━━━━━━━╇━━━━━━━━━━━━━━━━━┩\n",
              "│ flatten (<span style=\"color: #0087ff; text-decoration-color: #0087ff\">Flatten</span>)                    │ (<span style=\"color: #00d7ff; text-decoration-color: #00d7ff\">None</span>, <span style=\"color: #00af00; text-decoration-color: #00af00\">784</span>)                 │               <span style=\"color: #00af00; text-decoration-color: #00af00\">0</span> │\n",
              "├──────────────────────────────────────┼─────────────────────────────┼─────────────────┤\n",
              "│ dense (<span style=\"color: #0087ff; text-decoration-color: #0087ff\">Dense</span>)                        │ (<span style=\"color: #00d7ff; text-decoration-color: #00d7ff\">None</span>, <span style=\"color: #00af00; text-decoration-color: #00af00\">300</span>)                 │         <span style=\"color: #00af00; text-decoration-color: #00af00\">235,500</span> │\n",
              "├──────────────────────────────────────┼─────────────────────────────┼─────────────────┤\n",
              "│ dense_1 (<span style=\"color: #0087ff; text-decoration-color: #0087ff\">Dense</span>)                      │ (<span style=\"color: #00d7ff; text-decoration-color: #00d7ff\">None</span>, <span style=\"color: #00af00; text-decoration-color: #00af00\">100</span>)                 │          <span style=\"color: #00af00; text-decoration-color: #00af00\">30,100</span> │\n",
              "├──────────────────────────────────────┼─────────────────────────────┼─────────────────┤\n",
              "│ dense_2 (<span style=\"color: #0087ff; text-decoration-color: #0087ff\">Dense</span>)                      │ (<span style=\"color: #00d7ff; text-decoration-color: #00d7ff\">None</span>, <span style=\"color: #00af00; text-decoration-color: #00af00\">10</span>)                  │           <span style=\"color: #00af00; text-decoration-color: #00af00\">1,010</span> │\n",
              "└──────────────────────────────────────┴─────────────────────────────┴─────────────────┘\n",
              "</pre>\n"
            ]
          },
          "metadata": {}
        },
        {
          "output_type": "display_data",
          "data": {
            "text/plain": [
              "\u001b[1m Total params: \u001b[0m\u001b[38;5;34m266,610\u001b[0m (1.02 MB)\n"
            ],
            "text/html": [
              "<pre style=\"white-space:pre;overflow-x:auto;line-height:normal;font-family:Menlo,'DejaVu Sans Mono',consolas,'Courier New',monospace\"><span style=\"font-weight: bold\"> Total params: </span><span style=\"color: #00af00; text-decoration-color: #00af00\">266,610</span> (1.02 MB)\n",
              "</pre>\n"
            ]
          },
          "metadata": {}
        },
        {
          "output_type": "display_data",
          "data": {
            "text/plain": [
              "\u001b[1m Trainable params: \u001b[0m\u001b[38;5;34m266,610\u001b[0m (1.02 MB)\n"
            ],
            "text/html": [
              "<pre style=\"white-space:pre;overflow-x:auto;line-height:normal;font-family:Menlo,'DejaVu Sans Mono',consolas,'Courier New',monospace\"><span style=\"font-weight: bold\"> Trainable params: </span><span style=\"color: #00af00; text-decoration-color: #00af00\">266,610</span> (1.02 MB)\n",
              "</pre>\n"
            ]
          },
          "metadata": {}
        },
        {
          "output_type": "display_data",
          "data": {
            "text/plain": [
              "\u001b[1m Non-trainable params: \u001b[0m\u001b[38;5;34m0\u001b[0m (0.00 B)\n"
            ],
            "text/html": [
              "<pre style=\"white-space:pre;overflow-x:auto;line-height:normal;font-family:Menlo,'DejaVu Sans Mono',consolas,'Courier New',monospace\"><span style=\"font-weight: bold\"> Non-trainable params: </span><span style=\"color: #00af00; text-decoration-color: #00af00\">0</span> (0.00 B)\n",
              "</pre>\n"
            ]
          },
          "metadata": {}
        }
      ]
    },
    {
      "cell_type": "markdown",
      "source": [
        "All the parameters of a layer can be accessed using `get_weights` and `set_weights` methods:"
      ],
      "metadata": {
        "id": "mlZNxfSDZYmb"
      }
    },
    {
      "cell_type": "code",
      "source": [
        "hidden1 = model.layers[1] # assign the 1st hidden layer to a variable\n",
        "\n",
        "weights, biases = hidden1.get_weights()\n",
        "weights"
      ],
      "metadata": {
        "colab": {
          "base_uri": "https://localhost:8080/"
        },
        "id": "-g45OWWfZPkF",
        "outputId": "6168aab7-4bc5-4500-a59a-ecdb57e4ded5"
      },
      "execution_count": 6,
      "outputs": [
        {
          "output_type": "execute_result",
          "data": {
            "text/plain": [
              "array([[ 0.02803791,  0.06402741,  0.0630151 , ...,  0.01718603,\n",
              "         0.0163573 ,  0.0671701 ],\n",
              "       [ 0.06509364,  0.03904448, -0.045802  , ...,  0.00118237,\n",
              "        -0.06851136, -0.07175089],\n",
              "       [-0.05061892,  0.00069909,  0.07330933, ..., -0.01160989,\n",
              "        -0.06706563,  0.00405324],\n",
              "       ...,\n",
              "       [ 0.06233954,  0.05894341, -0.00969139, ...,  0.07268679,\n",
              "        -0.03873   , -0.02290129],\n",
              "       [ 0.04116823,  0.06339572,  0.06248954, ..., -0.00746386,\n",
              "        -0.04758076, -0.03506579],\n",
              "       [-0.01664733, -0.06560239,  0.046019  , ...,  0.01084657,\n",
              "        -0.00474168, -0.0127883 ]], dtype=float32)"
            ]
          },
          "metadata": {},
          "execution_count": 6
        }
      ]
    },
    {
      "cell_type": "markdown",
      "source": [
        "#### Compiling the model\n",
        "After a model has been created, its `compile` method can be called to specify the loss function and the optimizer to use:"
      ],
      "metadata": {
        "id": "vP5TxdNDZ8tS"
      }
    },
    {
      "cell_type": "code",
      "source": [
        "model.compile(loss=\"sparse_categorical_crossentropy\",  # Sparse Categorical Crossentropy is used for Multi-class Classification problems\n",
        "              optimizer=\"sgd\", # Stochastic Gradient Descent is a basic optimization that updates weights using the gradient of the loss function with respect to the weights\n",
        "              metrics=[\"accuracy\"]) # Computes the fraction of correctly classified samples"
      ],
      "metadata": {
        "id": "koygwIMtZzLF"
      },
      "execution_count": 7,
      "outputs": []
    },
    {
      "cell_type": "markdown",
      "source": [
        "#### Training and Evaluating the model\n",
        "To train the model, call its `fit` method:"
      ],
      "metadata": {
        "id": "24Aoe_hhbMqw"
      }
    },
    {
      "cell_type": "code",
      "source": [
        "history = model.fit(X_train, y_train, epochs=30,\n",
        "                    validation_data=(X_valid, y_valid))"
      ],
      "metadata": {
        "colab": {
          "base_uri": "https://localhost:8080/"
        },
        "id": "7LOshobKaaMQ",
        "outputId": "dd5c16c1-50c9-4165-ea02-d20f6a7e9cd7"
      },
      "execution_count": 8,
      "outputs": [
        {
          "output_type": "stream",
          "name": "stdout",
          "text": [
            "Epoch 1/30\n",
            "\u001b[1m1719/1719\u001b[0m \u001b[32m━━━━━━━━━━━━━━━━━━━━\u001b[0m\u001b[37m\u001b[0m \u001b[1m8s\u001b[0m 4ms/step - accuracy: 0.6781 - loss: 1.0244 - val_accuracy: 0.8258 - val_loss: 0.5098\n",
            "Epoch 2/30\n",
            "\u001b[1m1719/1719\u001b[0m \u001b[32m━━━━━━━━━━━━━━━━━━━━\u001b[0m\u001b[37m\u001b[0m \u001b[1m5s\u001b[0m 3ms/step - accuracy: 0.8260 - loss: 0.5070 - val_accuracy: 0.8410 - val_loss: 0.4570\n",
            "Epoch 3/30\n",
            "\u001b[1m1719/1719\u001b[0m \u001b[32m━━━━━━━━━━━━━━━━━━━━\u001b[0m\u001b[37m\u001b[0m \u001b[1m11s\u001b[0m 3ms/step - accuracy: 0.8436 - loss: 0.4541 - val_accuracy: 0.8484 - val_loss: 0.4320\n",
            "Epoch 4/30\n",
            "\u001b[1m1719/1719\u001b[0m \u001b[32m━━━━━━━━━━━━━━━━━━━━\u001b[0m\u001b[37m\u001b[0m \u001b[1m12s\u001b[0m 4ms/step - accuracy: 0.8535 - loss: 0.4239 - val_accuracy: 0.8528 - val_loss: 0.4140\n",
            "Epoch 5/30\n",
            "\u001b[1m1719/1719\u001b[0m \u001b[32m━━━━━━━━━━━━━━━━━━━━\u001b[0m\u001b[37m\u001b[0m \u001b[1m9s\u001b[0m 4ms/step - accuracy: 0.8594 - loss: 0.4024 - val_accuracy: 0.8542 - val_loss: 0.4021\n",
            "Epoch 6/30\n",
            "\u001b[1m1719/1719\u001b[0m \u001b[32m━━━━━━━━━━━━━━━━━━━━\u001b[0m\u001b[37m\u001b[0m \u001b[1m9s\u001b[0m 3ms/step - accuracy: 0.8648 - loss: 0.3854 - val_accuracy: 0.8550 - val_loss: 0.3923\n",
            "Epoch 7/30\n",
            "\u001b[1m1719/1719\u001b[0m \u001b[32m━━━━━━━━━━━━━━━━━━━━\u001b[0m\u001b[37m\u001b[0m \u001b[1m10s\u001b[0m 3ms/step - accuracy: 0.8687 - loss: 0.3714 - val_accuracy: 0.8574 - val_loss: 0.3848\n",
            "Epoch 8/30\n",
            "\u001b[1m1719/1719\u001b[0m \u001b[32m━━━━━━━━━━━━━━━━━━━━\u001b[0m\u001b[37m\u001b[0m \u001b[1m7s\u001b[0m 4ms/step - accuracy: 0.8718 - loss: 0.3594 - val_accuracy: 0.8612 - val_loss: 0.3788\n",
            "Epoch 9/30\n",
            "\u001b[1m1719/1719\u001b[0m \u001b[32m━━━━━━━━━━━━━━━━━━━━\u001b[0m\u001b[37m\u001b[0m \u001b[1m9s\u001b[0m 3ms/step - accuracy: 0.8760 - loss: 0.3487 - val_accuracy: 0.8626 - val_loss: 0.3731\n",
            "Epoch 10/30\n",
            "\u001b[1m1719/1719\u001b[0m \u001b[32m━━━━━━━━━━━━━━━━━━━━\u001b[0m\u001b[37m\u001b[0m \u001b[1m7s\u001b[0m 4ms/step - accuracy: 0.8788 - loss: 0.3388 - val_accuracy: 0.8652 - val_loss: 0.3672\n",
            "Epoch 11/30\n",
            "\u001b[1m1719/1719\u001b[0m \u001b[32m━━━━━━━━━━━━━━━━━━━━\u001b[0m\u001b[37m\u001b[0m \u001b[1m5s\u001b[0m 3ms/step - accuracy: 0.8820 - loss: 0.3298 - val_accuracy: 0.8670 - val_loss: 0.3630\n",
            "Epoch 12/30\n",
            "\u001b[1m1719/1719\u001b[0m \u001b[32m━━━━━━━━━━━━━━━━━━━━\u001b[0m\u001b[37m\u001b[0m \u001b[1m10s\u001b[0m 3ms/step - accuracy: 0.8848 - loss: 0.3214 - val_accuracy: 0.8662 - val_loss: 0.3598\n",
            "Epoch 13/30\n",
            "\u001b[1m1719/1719\u001b[0m \u001b[32m━━━━━━━━━━━━━━━━━━━━\u001b[0m\u001b[37m\u001b[0m \u001b[1m11s\u001b[0m 4ms/step - accuracy: 0.8876 - loss: 0.3136 - val_accuracy: 0.8676 - val_loss: 0.3581\n",
            "Epoch 14/30\n",
            "\u001b[1m1719/1719\u001b[0m \u001b[32m━━━━━━━━━━━━━━━━━━━━\u001b[0m\u001b[37m\u001b[0m \u001b[1m11s\u001b[0m 4ms/step - accuracy: 0.8901 - loss: 0.3065 - val_accuracy: 0.8710 - val_loss: 0.3542\n",
            "Epoch 15/30\n",
            "\u001b[1m1719/1719\u001b[0m \u001b[32m━━━━━━━━━━━━━━━━━━━━\u001b[0m\u001b[37m\u001b[0m \u001b[1m8s\u001b[0m 3ms/step - accuracy: 0.8926 - loss: 0.2996 - val_accuracy: 0.8722 - val_loss: 0.3525\n",
            "Epoch 16/30\n",
            "\u001b[1m1719/1719\u001b[0m \u001b[32m━━━━━━━━━━━━━━━━━━━━\u001b[0m\u001b[37m\u001b[0m \u001b[1m7s\u001b[0m 4ms/step - accuracy: 0.8948 - loss: 0.2930 - val_accuracy: 0.8720 - val_loss: 0.3507\n",
            "Epoch 17/30\n",
            "\u001b[1m1719/1719\u001b[0m \u001b[32m━━━━━━━━━━━━━━━━━━━━\u001b[0m\u001b[37m\u001b[0m \u001b[1m5s\u001b[0m 3ms/step - accuracy: 0.8968 - loss: 0.2870 - val_accuracy: 0.8732 - val_loss: 0.3510\n",
            "Epoch 18/30\n",
            "\u001b[1m1719/1719\u001b[0m \u001b[32m━━━━━━━━━━━━━━━━━━━━\u001b[0m\u001b[37m\u001b[0m \u001b[1m10s\u001b[0m 3ms/step - accuracy: 0.8989 - loss: 0.2810 - val_accuracy: 0.8748 - val_loss: 0.3491\n",
            "Epoch 19/30\n",
            "\u001b[1m1719/1719\u001b[0m \u001b[32m━━━━━━━━━━━━━━━━━━━━\u001b[0m\u001b[37m\u001b[0m \u001b[1m7s\u001b[0m 4ms/step - accuracy: 0.9014 - loss: 0.2755 - val_accuracy: 0.8760 - val_loss: 0.3472\n",
            "Epoch 20/30\n",
            "\u001b[1m1719/1719\u001b[0m \u001b[32m━━━━━━━━━━━━━━━━━━━━\u001b[0m\u001b[37m\u001b[0m \u001b[1m5s\u001b[0m 3ms/step - accuracy: 0.9034 - loss: 0.2700 - val_accuracy: 0.8754 - val_loss: 0.3470\n",
            "Epoch 21/30\n",
            "\u001b[1m1719/1719\u001b[0m \u001b[32m━━━━━━━━━━━━━━━━━━━━\u001b[0m\u001b[37m\u001b[0m \u001b[1m5s\u001b[0m 3ms/step - accuracy: 0.9059 - loss: 0.2650 - val_accuracy: 0.8746 - val_loss: 0.3489\n",
            "Epoch 22/30\n",
            "\u001b[1m1719/1719\u001b[0m \u001b[32m━━━━━━━━━━━━━━━━━━━━\u001b[0m\u001b[37m\u001b[0m \u001b[1m10s\u001b[0m 3ms/step - accuracy: 0.9071 - loss: 0.2601 - val_accuracy: 0.8742 - val_loss: 0.3500\n",
            "Epoch 23/30\n",
            "\u001b[1m1719/1719\u001b[0m \u001b[32m━━━━━━━━━━━━━━━━━━━━\u001b[0m\u001b[37m\u001b[0m \u001b[1m7s\u001b[0m 4ms/step - accuracy: 0.9087 - loss: 0.2553 - val_accuracy: 0.8758 - val_loss: 0.3508\n",
            "Epoch 24/30\n",
            "\u001b[1m1719/1719\u001b[0m \u001b[32m━━━━━━━━━━━━━━━━━━━━\u001b[0m\u001b[37m\u001b[0m \u001b[1m5s\u001b[0m 3ms/step - accuracy: 0.9105 - loss: 0.2509 - val_accuracy: 0.8756 - val_loss: 0.3507\n",
            "Epoch 25/30\n",
            "\u001b[1m1719/1719\u001b[0m \u001b[32m━━━━━━━━━━━━━━━━━━━━\u001b[0m\u001b[37m\u001b[0m \u001b[1m11s\u001b[0m 3ms/step - accuracy: 0.9122 - loss: 0.2465 - val_accuracy: 0.8764 - val_loss: 0.3495\n",
            "Epoch 26/30\n",
            "\u001b[1m1719/1719\u001b[0m \u001b[32m━━━━━━━━━━━━━━━━━━━━\u001b[0m\u001b[37m\u001b[0m \u001b[1m11s\u001b[0m 4ms/step - accuracy: 0.9134 - loss: 0.2422 - val_accuracy: 0.8768 - val_loss: 0.3498\n",
            "Epoch 27/30\n",
            "\u001b[1m1719/1719\u001b[0m \u001b[32m━━━━━━━━━━━━━━━━━━━━\u001b[0m\u001b[37m\u001b[0m \u001b[1m5s\u001b[0m 3ms/step - accuracy: 0.9151 - loss: 0.2380 - val_accuracy: 0.8764 - val_loss: 0.3485\n",
            "Epoch 28/30\n",
            "\u001b[1m1719/1719\u001b[0m \u001b[32m━━━━━━━━━━━━━━━━━━━━\u001b[0m\u001b[37m\u001b[0m \u001b[1m10s\u001b[0m 3ms/step - accuracy: 0.9169 - loss: 0.2339 - val_accuracy: 0.8772 - val_loss: 0.3482\n",
            "Epoch 29/30\n",
            "\u001b[1m1719/1719\u001b[0m \u001b[32m━━━━━━━━━━━━━━━━━━━━\u001b[0m\u001b[37m\u001b[0m \u001b[1m7s\u001b[0m 4ms/step - accuracy: 0.9184 - loss: 0.2301 - val_accuracy: 0.8760 - val_loss: 0.3511\n",
            "Epoch 30/30\n",
            "\u001b[1m1719/1719\u001b[0m \u001b[32m━━━━━━━━━━━━━━━━━━━━\u001b[0m\u001b[37m\u001b[0m \u001b[1m5s\u001b[0m 3ms/step - accuracy: 0.9203 - loss: 0.2263 - val_accuracy: 0.8760 - val_loss: 0.3509\n"
          ]
        }
      ]
    },
    {
      "cell_type": "markdown",
      "source": [
        "If the performance on the training set is much better than on the validation set, the model is probably overfitting the training set or there is a bug such as a data mismatch between the training and validation set.\n",
        "<br><br>\n",
        "If the training set is very skewed, with some classes being either over-represented or under-represented, it would be useful to set the `class_weight` arugment when calling the `fit` method, to give a larger weight to under-represented classes and a smaller weight to over-represented classes."
      ],
      "metadata": {
        "id": "3tTkl-Dabvf9"
      }
    },
    {
      "cell_type": "markdown",
      "source": [
        "#### Using the model to make predictions\n",
        "The model's `predict` method can be used to make predictions on new instances. However, since we do not have new instances, use the first 3 instances of the test set:"
      ],
      "metadata": {
        "id": "fK78epyfcmx2"
      }
    },
    {
      "cell_type": "code",
      "source": [
        "X_new = X_test[:3]\n",
        "y_proba = model.predict(X_new)\n",
        "y_proba.round(2)"
      ],
      "metadata": {
        "colab": {
          "base_uri": "https://localhost:8080/"
        },
        "id": "9n0T_Idfdd2M",
        "outputId": "5eed5d99-7e4a-4de8-f511-6def024166ac"
      },
      "execution_count": 9,
      "outputs": [
        {
          "output_type": "stream",
          "name": "stdout",
          "text": [
            "\u001b[1m1/1\u001b[0m \u001b[32m━━━━━━━━━━━━━━━━━━━━\u001b[0m\u001b[37m\u001b[0m \u001b[1m0s\u001b[0m 88ms/step\n"
          ]
        },
        {
          "output_type": "execute_result",
          "data": {
            "text/plain": [
              "array([[0.  , 0.  , 0.  , 0.  , 0.  , 0.28, 0.  , 0.02, 0.  , 0.7 ],\n",
              "       [0.  , 0.  , 1.  , 0.  , 0.  , 0.  , 0.  , 0.  , 0.  , 0.  ],\n",
              "       [0.  , 1.  , 0.  , 0.  , 0.  , 0.  , 0.  , 0.  , 0.  , 0.  ]],\n",
              "      dtype=float32)"
            ]
          },
          "metadata": {},
          "execution_count": 9
        }
      ]
    },
    {
      "cell_type": "markdown",
      "source": [
        "For each instance the model estimates one probability per class, from class 0 to class 9. For example, for the 1st image, the model estimates that the probability of it belonging to class 9 (ankle boot) is 74%, class 5 (Pullover) is 25% and class 7 (Trouser) is 1%."
      ],
      "metadata": {
        "id": "hD62zKSCevio"
      }
    },
    {
      "cell_type": "markdown",
      "source": [
        "If only the class with the highest esimated probability is needed, the `argmax` method can be called to get the highest probability class index for each instance:"
      ],
      "metadata": {
        "id": "O-WpIoQYjFOZ"
      }
    },
    {
      "cell_type": "code",
      "source": [
        "import numpy as np\n",
        "\n",
        "y_pred = y_proba.argmax(axis=-1)\n",
        "np.array(class_names)[y_pred]"
      ],
      "metadata": {
        "colab": {
          "base_uri": "https://localhost:8080/"
        },
        "id": "ZmzmG-IkemhH",
        "outputId": "615c16c6-34a8-4a29-8315-77aaa67d82be"
      },
      "execution_count": 10,
      "outputs": [
        {
          "output_type": "execute_result",
          "data": {
            "text/plain": [
              "array(['Ankle boot', 'Pullover', 'Trouser'], dtype='<U11')"
            ]
          },
          "metadata": {},
          "execution_count": 10
        }
      ]
    },
    {
      "cell_type": "markdown",
      "source": [
        "### Building a Regression MLP using the Sequential API"
      ],
      "metadata": {
        "id": "9LuJ-FJIjgIE"
      }
    },
    {
      "cell_type": "markdown",
      "source": [
        "Use the Sequential API to build, train, evaluate and use a regression MLP, with 3 hidden layers composed of 50 neurons each. Want the output layer to have only a single neuron and not use any activation function. Compared to the previous example, rather than using a `Flatten` layer, the `Normalization` layer would be used as the 1st layer instead."
      ],
      "metadata": {
        "id": "Fr4Eia-O9QQu"
      }
    },
    {
      "cell_type": "code",
      "source": [
        "tf.random.set_seed(42)\n",
        "\n",
        "\n",
        "norm_layer = tf.keras.layers.Normalization(input_shape=X_train.shape[1:])\n",
        "model = tf.keras.Sequential([\n",
        "    norm_layer,\n",
        "    tf.keras.layers.Dense(50, activation=\"relu\"),\n",
        "    tf.keras.layers.Dense(50, activation=\"relu\"),\n",
        "    tf.keras.layers.Dense(50, activation=\"relu\"),\n",
        "    tf.keras.layers.Dense(1)\n",
        "])\n",
        "\n",
        "optimizer = tf.keras.optimizers.Adam(learning_rate=1e-3)\n",
        "\n",
        "model.compile(loss=\"mse\", optimizer=optimizer, metrics=[\"RootMeanSquaredError\"])\n",
        "\n",
        "norm_layer.adapt(X_train) # Model must be fitted using adapt() before fit() can be called due to the \"Normliazation\" layer\n",
        "history = model.fit(X_train, y_train, epochs=20,\n",
        "                    validation_data=(X_valid, y_valid))\n",
        "mse_test, rmse_test = model.evaluate(X_test, y_test)\n",
        "\n",
        "X_new = X_test[:3]\n",
        "y_pred = model.predict(X_new)"
      ],
      "metadata": {
        "colab": {
          "base_uri": "https://localhost:8080/"
        },
        "id": "QkZfCA-Y8-64",
        "outputId": "b916cf20-d4f2-419f-f0fb-cccf05845a4d"
      },
      "execution_count": 11,
      "outputs": [
        {
          "output_type": "stream",
          "name": "stderr",
          "text": [
            "/usr/local/lib/python3.10/dist-packages/keras/src/layers/preprocessing/tf_data_layer.py:19: UserWarning: Do not pass an `input_shape`/`input_dim` argument to a layer. When using Sequential models, prefer using an `Input(shape)` object as the first layer in the model instead.\n",
            "  super().__init__(**kwargs)\n"
          ]
        },
        {
          "output_type": "stream",
          "name": "stdout",
          "text": [
            "Epoch 1/20\n",
            "\u001b[1m1719/1719\u001b[0m \u001b[32m━━━━━━━━━━━━━━━━━━━━\u001b[0m\u001b[37m\u001b[0m \u001b[1m10s\u001b[0m 5ms/step - RootMeanSquaredError: 3.1297 - loss: 9.9351 - val_RootMeanSquaredError: 2.9017 - val_loss: 8.4201\n",
            "Epoch 2/20\n",
            "\u001b[1m1719/1719\u001b[0m \u001b[32m━━━━━━━━━━━━━━━━━━━━\u001b[0m\u001b[37m\u001b[0m \u001b[1m10s\u001b[0m 6ms/step - RootMeanSquaredError: 2.8842 - loss: 8.3185 - val_RootMeanSquaredError: 2.8993 - val_loss: 8.4060\n",
            "Epoch 3/20\n",
            "\u001b[1m1719/1719\u001b[0m \u001b[32m━━━━━━━━━━━━━━━━━━━━\u001b[0m\u001b[37m\u001b[0m \u001b[1m10s\u001b[0m 6ms/step - RootMeanSquaredError: 2.8792 - loss: 8.2901 - val_RootMeanSquaredError: 2.9004 - val_loss: 8.4126\n",
            "Epoch 4/20\n",
            "\u001b[1m1719/1719\u001b[0m \u001b[32m━━━━━━━━━━━━━━━━━━━━\u001b[0m\u001b[37m\u001b[0m \u001b[1m10s\u001b[0m 6ms/step - RootMeanSquaredError: 2.8773 - loss: 8.2789 - val_RootMeanSquaredError: 2.8988 - val_loss: 8.4030\n",
            "Epoch 5/20\n",
            "\u001b[1m1719/1719\u001b[0m \u001b[32m━━━━━━━━━━━━━━━━━━━━\u001b[0m\u001b[37m\u001b[0m \u001b[1m9s\u001b[0m 5ms/step - RootMeanSquaredError: 2.8759 - loss: 8.2710 - val_RootMeanSquaredError: 2.8963 - val_loss: 8.3888\n",
            "Epoch 6/20\n",
            "\u001b[1m1719/1719\u001b[0m \u001b[32m━━━━━━━━━━━━━━━━━━━━\u001b[0m\u001b[37m\u001b[0m \u001b[1m10s\u001b[0m 6ms/step - RootMeanSquaredError: 2.8751 - loss: 8.2662 - val_RootMeanSquaredError: 2.8948 - val_loss: 8.3796\n",
            "Epoch 7/20\n",
            "\u001b[1m1719/1719\u001b[0m \u001b[32m━━━━━━━━━━━━━━━━━━━━\u001b[0m\u001b[37m\u001b[0m \u001b[1m10s\u001b[0m 6ms/step - RootMeanSquaredError: 2.8744 - loss: 8.2620 - val_RootMeanSquaredError: 2.8932 - val_loss: 8.3704\n",
            "Epoch 8/20\n",
            "\u001b[1m1719/1719\u001b[0m \u001b[32m━━━━━━━━━━━━━━━━━━━━\u001b[0m\u001b[37m\u001b[0m \u001b[1m9s\u001b[0m 5ms/step - RootMeanSquaredError: 2.8737 - loss: 8.2583 - val_RootMeanSquaredError: 2.8927 - val_loss: 8.3680\n",
            "Epoch 9/20\n",
            "\u001b[1m1719/1719\u001b[0m \u001b[32m━━━━━━━━━━━━━━━━━━━━\u001b[0m\u001b[37m\u001b[0m \u001b[1m10s\u001b[0m 6ms/step - RootMeanSquaredError: 2.8732 - loss: 8.2554 - val_RootMeanSquaredError: 2.8926 - val_loss: 8.3670\n",
            "Epoch 10/20\n",
            "\u001b[1m1719/1719\u001b[0m \u001b[32m━━━━━━━━━━━━━━━━━━━━\u001b[0m\u001b[37m\u001b[0m \u001b[1m10s\u001b[0m 6ms/step - RootMeanSquaredError: 2.8727 - loss: 8.2526 - val_RootMeanSquaredError: 2.8925 - val_loss: 8.3668\n",
            "Epoch 11/20\n",
            "\u001b[1m1719/1719\u001b[0m \u001b[32m━━━━━━━━━━━━━━━━━━━━\u001b[0m\u001b[37m\u001b[0m \u001b[1m9s\u001b[0m 5ms/step - RootMeanSquaredError: 2.8724 - loss: 8.2505 - val_RootMeanSquaredError: 2.8927 - val_loss: 8.3675\n",
            "Epoch 12/20\n",
            "\u001b[1m1719/1719\u001b[0m \u001b[32m━━━━━━━━━━━━━━━━━━━━\u001b[0m\u001b[37m\u001b[0m \u001b[1m10s\u001b[0m 6ms/step - RootMeanSquaredError: 2.8722 - loss: 8.2493 - val_RootMeanSquaredError: 2.8928 - val_loss: 8.3681\n",
            "Epoch 13/20\n",
            "\u001b[1m1719/1719\u001b[0m \u001b[32m━━━━━━━━━━━━━━━━━━━━\u001b[0m\u001b[37m\u001b[0m \u001b[1m10s\u001b[0m 6ms/step - RootMeanSquaredError: 2.8720 - loss: 8.2483 - val_RootMeanSquaredError: 2.8929 - val_loss: 8.3686\n",
            "Epoch 14/20\n",
            "\u001b[1m1719/1719\u001b[0m \u001b[32m━━━━━━━━━━━━━━━━━━━━\u001b[0m\u001b[37m\u001b[0m \u001b[1m9s\u001b[0m 5ms/step - RootMeanSquaredError: 2.8718 - loss: 8.2474 - val_RootMeanSquaredError: 2.8929 - val_loss: 8.3688\n",
            "Epoch 15/20\n",
            "\u001b[1m1719/1719\u001b[0m \u001b[32m━━━━━━━━━━━━━━━━━━━━\u001b[0m\u001b[37m\u001b[0m \u001b[1m10s\u001b[0m 5ms/step - RootMeanSquaredError: 2.8717 - loss: 8.2467 - val_RootMeanSquaredError: 2.8929 - val_loss: 8.3691\n",
            "Epoch 16/20\n",
            "\u001b[1m1719/1719\u001b[0m \u001b[32m━━━━━━━━━━━━━━━━━━━━\u001b[0m\u001b[37m\u001b[0m \u001b[1m10s\u001b[0m 6ms/step - RootMeanSquaredError: 2.8717 - loss: 8.2465 - val_RootMeanSquaredError: 2.8930 - val_loss: 8.3696\n",
            "Epoch 17/20\n",
            "\u001b[1m1719/1719\u001b[0m \u001b[32m━━━━━━━━━━━━━━━━━━━━\u001b[0m\u001b[37m\u001b[0m \u001b[1m10s\u001b[0m 6ms/step - RootMeanSquaredError: 2.8715 - loss: 8.2458 - val_RootMeanSquaredError: 2.8931 - val_loss: 8.3698\n",
            "Epoch 18/20\n",
            "\u001b[1m1719/1719\u001b[0m \u001b[32m━━━━━━━━━━━━━━━━━━━━\u001b[0m\u001b[37m\u001b[0m \u001b[1m9s\u001b[0m 5ms/step - RootMeanSquaredError: 2.8715 - loss: 8.2456 - val_RootMeanSquaredError: 2.8931 - val_loss: 8.3699\n",
            "Epoch 19/20\n",
            "\u001b[1m1719/1719\u001b[0m \u001b[32m━━━━━━━━━━━━━━━━━━━━\u001b[0m\u001b[37m\u001b[0m \u001b[1m10s\u001b[0m 5ms/step - RootMeanSquaredError: 2.8715 - loss: 8.2456 - val_RootMeanSquaredError: 2.8932 - val_loss: 8.3705\n",
            "Epoch 20/20\n",
            "\u001b[1m1719/1719\u001b[0m \u001b[32m━━━━━━━━━━━━━━━━━━━━\u001b[0m\u001b[37m\u001b[0m \u001b[1m10s\u001b[0m 6ms/step - RootMeanSquaredError: 2.8712 - loss: 8.2441 - val_RootMeanSquaredError: 2.8932 - val_loss: 8.3708\n",
            "\u001b[1m313/313\u001b[0m \u001b[32m━━━━━━━━━━━━━━━━━━━━\u001b[0m\u001b[37m\u001b[0m \u001b[1m1s\u001b[0m 2ms/step - RootMeanSquaredError: 2.8626 - loss: 8.1945\n",
            "\u001b[1m1/1\u001b[0m \u001b[32m━━━━━━━━━━━━━━━━━━━━\u001b[0m\u001b[37m\u001b[0m \u001b[1m0s\u001b[0m 77ms/step\n"
          ]
        }
      ]
    },
    {
      "cell_type": "markdown",
      "source": [
        "### Building Complex Models using the Functional API\n",
        "One example of a non-sequential neural network is a *Wide & Deep* neural network. This neural network architecture makes it possible for the neural network to learn both deep patterns (using the deep path) and simple rules (through the short path). <br>\n",
        "![image.png](data:image/png;base64,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)"
      ],
      "metadata": {
        "id": "wGBhMSc--vYm"
      }
    },
    {
      "cell_type": "code",
      "source": [
        "# Reset name counters and make the code reproducible\n",
        "tf.keras.backend.clear_session()\n",
        "tf.random.set_seed(42)"
      ],
      "metadata": {
        "id": "5t1lXC9ejXqS"
      },
      "execution_count": 12,
      "outputs": []
    },
    {
      "cell_type": "code",
      "source": [
        "normalization_layer = tf.keras.layers.Normalization() # To standardize the inputs\n",
        "hidden_layer1 = tf.keras.layers.Dense(30, activation=\"relu\") # 30 neurons each, using the ReLU activation function\n",
        "hidden_layer2 = tf.keras.layers.Dense(30, activation=\"relu\") # 30 neurons each, using the ReLU activation function\n",
        "concat_layer = tf.keras.layers.Concatenate()\n",
        "output_layer = tf.keras.layers.Dense(1)\n",
        "\n",
        "input_ = tf.keras.layers.Input(shape=X_train.shape[1:])\n",
        "normalized = normalization_layer(input_)\n",
        "hidden1 = hidden_layer1(normalized) # Pass normalized to hidden_layer1\n",
        "hidden2 = hidden_layer2(hidden1) # Pass hidden1 to hidden_layer2\n",
        "concat = concat_layer([normalized, hidden2])\n",
        "output = output_layer(concat)\n",
        "\n",
        "model = tf.keras.Model(inputs=[input_], outputs=[output])"
      ],
      "metadata": {
        "id": "9NisuZ9U_0uW"
      },
      "execution_count": 13,
      "outputs": []
    },
    {
      "cell_type": "code",
      "source": [
        "optimizer = tf.keras.optimizers.Adam(learning_rate=1e-3)\n",
        "model.compile(loss=\"mse\", optimizer=optimizer, metrics=[\"RootMeanSquaredError\"])\n",
        "normalization_layer.adapt(X_train)\n",
        "history = model.fit(X_train, y_train, epochs=20,\n",
        "                    validation_data=(X_valid, y_valid))\n",
        "mse_test = model.evaluate(X_test, y_test)\n",
        "y_pred = model.predict(X_new)"
      ],
      "metadata": {
        "colab": {
          "base_uri": "https://localhost:8080/"
        },
        "id": "skocv6pMA7ea",
        "outputId": "79d52504-95b9-494c-c3f9-dacc8305db7e"
      },
      "execution_count": 14,
      "outputs": [
        {
          "output_type": "stream",
          "name": "stdout",
          "text": [
            "Epoch 1/20\n",
            "\u001b[1m1719/1719\u001b[0m \u001b[32m━━━━━━━━━━━━━━━━━━━━\u001b[0m\u001b[37m\u001b[0m \u001b[1m8s\u001b[0m 4ms/step - RootMeanSquaredError: 3.2273 - loss: 10.5892 - val_RootMeanSquaredError: 2.9129 - val_loss: 8.4851\n",
            "Epoch 2/20\n",
            "\u001b[1m1719/1719\u001b[0m \u001b[32m━━━━━━━━━━━━━━━━━━━━\u001b[0m\u001b[37m\u001b[0m \u001b[1m9s\u001b[0m 3ms/step - RootMeanSquaredError: 2.8888 - loss: 8.3454 - val_RootMeanSquaredError: 2.9006 - val_loss: 8.4135\n",
            "Epoch 3/20\n",
            "\u001b[1m1719/1719\u001b[0m \u001b[32m━━━━━━━━━━━━━━━━━━━━\u001b[0m\u001b[37m\u001b[0m \u001b[1m7s\u001b[0m 4ms/step - RootMeanSquaredError: 2.8797 - loss: 8.2928 - val_RootMeanSquaredError: 2.8965 - val_loss: 8.3899\n",
            "Epoch 4/20\n",
            "\u001b[1m1719/1719\u001b[0m \u001b[32m━━━━━━━━━━━━━━━━━━━━\u001b[0m\u001b[37m\u001b[0m \u001b[1m8s\u001b[0m 5ms/step - RootMeanSquaredError: 2.8767 - loss: 8.2755 - val_RootMeanSquaredError: 2.8947 - val_loss: 8.3792\n",
            "Epoch 5/20\n",
            "\u001b[1m1719/1719\u001b[0m \u001b[32m━━━━━━━━━━━━━━━━━━━━\u001b[0m\u001b[37m\u001b[0m \u001b[1m7s\u001b[0m 4ms/step - RootMeanSquaredError: 2.8754 - loss: 8.2679 - val_RootMeanSquaredError: 2.8939 - val_loss: 8.3746\n",
            "Epoch 6/20\n",
            "\u001b[1m1719/1719\u001b[0m \u001b[32m━━━━━━━━━━━━━━━━━━━━\u001b[0m\u001b[37m\u001b[0m \u001b[1m5s\u001b[0m 3ms/step - RootMeanSquaredError: 2.8747 - loss: 8.2640 - val_RootMeanSquaredError: 2.8935 - val_loss: 8.3724\n",
            "Epoch 7/20\n",
            "\u001b[1m1719/1719\u001b[0m \u001b[32m━━━━━━━━━━━━━━━━━━━━\u001b[0m\u001b[37m\u001b[0m \u001b[1m7s\u001b[0m 4ms/step - RootMeanSquaredError: 2.8743 - loss: 8.2614 - val_RootMeanSquaredError: 2.8934 - val_loss: 8.3716\n",
            "Epoch 8/20\n",
            "\u001b[1m1719/1719\u001b[0m \u001b[32m━━━━━━━━━━━━━━━━━━━━\u001b[0m\u001b[37m\u001b[0m \u001b[1m5s\u001b[0m 3ms/step - RootMeanSquaredError: 2.8740 - loss: 8.2597 - val_RootMeanSquaredError: 2.8933 - val_loss: 8.3711\n",
            "Epoch 9/20\n",
            "\u001b[1m1719/1719\u001b[0m \u001b[32m━━━━━━━━━━━━━━━━━━━━\u001b[0m\u001b[37m\u001b[0m \u001b[1m11s\u001b[0m 4ms/step - RootMeanSquaredError: 2.8737 - loss: 8.2584 - val_RootMeanSquaredError: 2.8932 - val_loss: 8.3708\n",
            "Epoch 10/20\n",
            "\u001b[1m1719/1719\u001b[0m \u001b[32m━━━━━━━━━━━━━━━━━━━━\u001b[0m\u001b[37m\u001b[0m \u001b[1m5s\u001b[0m 3ms/step - RootMeanSquaredError: 2.8735 - loss: 8.2571 - val_RootMeanSquaredError: 2.8932 - val_loss: 8.3706\n",
            "Epoch 11/20\n",
            "\u001b[1m1719/1719\u001b[0m \u001b[32m━━━━━━━━━━━━━━━━━━━━\u001b[0m\u001b[37m\u001b[0m \u001b[1m10s\u001b[0m 3ms/step - RootMeanSquaredError: 2.8734 - loss: 8.2563 - val_RootMeanSquaredError: 2.8932 - val_loss: 8.3709\n",
            "Epoch 12/20\n",
            "\u001b[1m1719/1719\u001b[0m \u001b[32m━━━━━━━━━━━━━━━━━━━━\u001b[0m\u001b[37m\u001b[0m \u001b[1m10s\u001b[0m 3ms/step - RootMeanSquaredError: 2.8732 - loss: 8.2554 - val_RootMeanSquaredError: 2.8933 - val_loss: 8.3709\n",
            "Epoch 13/20\n",
            "\u001b[1m1719/1719\u001b[0m \u001b[32m━━━━━━━━━━━━━━━━━━━━\u001b[0m\u001b[37m\u001b[0m \u001b[1m11s\u001b[0m 3ms/step - RootMeanSquaredError: 2.8731 - loss: 8.2547 - val_RootMeanSquaredError: 2.8933 - val_loss: 8.3712\n",
            "Epoch 14/20\n",
            "\u001b[1m1719/1719\u001b[0m \u001b[32m━━━━━━━━━━━━━━━━━━━━\u001b[0m\u001b[37m\u001b[0m \u001b[1m5s\u001b[0m 3ms/step - RootMeanSquaredError: 2.8730 - loss: 8.2540 - val_RootMeanSquaredError: 2.8933 - val_loss: 8.3712\n",
            "Epoch 15/20\n",
            "\u001b[1m1719/1719\u001b[0m \u001b[32m━━━━━━━━━━━━━━━━━━━━\u001b[0m\u001b[37m\u001b[0m \u001b[1m7s\u001b[0m 4ms/step - RootMeanSquaredError: 2.8729 - loss: 8.2534 - val_RootMeanSquaredError: 2.8933 - val_loss: 8.3713\n",
            "Epoch 16/20\n",
            "\u001b[1m1719/1719\u001b[0m \u001b[32m━━━━━━━━━━━━━━━━━━━━\u001b[0m\u001b[37m\u001b[0m \u001b[1m6s\u001b[0m 3ms/step - RootMeanSquaredError: 2.8728 - loss: 8.2529 - val_RootMeanSquaredError: 2.8933 - val_loss: 8.3714\n",
            "Epoch 17/20\n",
            "\u001b[1m1719/1719\u001b[0m \u001b[32m━━━━━━━━━━━━━━━━━━━━\u001b[0m\u001b[37m\u001b[0m \u001b[1m7s\u001b[0m 4ms/step - RootMeanSquaredError: 2.8727 - loss: 8.2524 - val_RootMeanSquaredError: 2.8933 - val_loss: 8.3714\n",
            "Epoch 18/20\n",
            "\u001b[1m1719/1719\u001b[0m \u001b[32m━━━━━━━━━━━━━━━━━━━━\u001b[0m\u001b[37m\u001b[0m \u001b[1m5s\u001b[0m 3ms/step - RootMeanSquaredError: 2.8726 - loss: 8.2520 - val_RootMeanSquaredError: 2.8933 - val_loss: 8.3714\n",
            "Epoch 19/20\n",
            "\u001b[1m1719/1719\u001b[0m \u001b[32m━━━━━━━━━━━━━━━━━━━━\u001b[0m\u001b[37m\u001b[0m \u001b[1m13s\u001b[0m 5ms/step - RootMeanSquaredError: 2.8725 - loss: 8.2516 - val_RootMeanSquaredError: 2.8933 - val_loss: 8.3714\n",
            "Epoch 20/20\n",
            "\u001b[1m1719/1719\u001b[0m \u001b[32m━━━━━━━━━━━━━━━━━━━━\u001b[0m\u001b[37m\u001b[0m \u001b[1m9s\u001b[0m 4ms/step - RootMeanSquaredError: 2.8725 - loss: 8.2512 - val_RootMeanSquaredError: 2.8934 - val_loss: 8.3715\n",
            "\u001b[1m313/313\u001b[0m \u001b[32m━━━━━━━━━━━━━━━━━━━━\u001b[0m\u001b[37m\u001b[0m \u001b[1m1s\u001b[0m 2ms/step - RootMeanSquaredError: 2.8628 - loss: 8.1957\n",
            "\u001b[1m1/1\u001b[0m \u001b[32m━━━━━━━━━━━━━━━━━━━━\u001b[0m\u001b[37m\u001b[0m \u001b[1m0s\u001b[0m 67ms/step\n"
          ]
        }
      ]
    },
    {
      "cell_type": "markdown",
      "source": [
        "If want to send a subset of the features through the wide path and a different subset through the deep path instead: <br>\n",
        "![image.png](data:image/png;base64,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)"
      ],
      "metadata": {
        "id": "cI6_b5ipAsy5"
      }
    },
    {
      "cell_type": "markdown",
      "source": [
        "The following code uses multiple inputs. First, to send 5 features through the wide path (features 0 to 4), then 6 features through the deep path (features 2 to 7):"
      ],
      "metadata": {
        "id": "2v4TD7xtBMOa"
      }
    },
    {
      "cell_type": "code",
      "source": [
        "input_wide = tf.keras.layers.Input(shape=[5])  # features 0 to 4\n",
        "input_deep = tf.keras.layers.Input(shape=[6])  # features 2 to 7\n",
        "norm_layer_wide = tf.keras.layers.Normalization()\n",
        "norm_layer_deep = tf.keras.layers.Normalization()\n",
        "norm_wide = norm_layer_wide(input_wide)\n",
        "norm_deep = norm_layer_deep(input_deep)\n",
        "hidden1 = tf.keras.layers.Dense(30, activation=\"relu\")(norm_deep)\n",
        "hidden2 = tf.keras.layers.Dense(30, activation=\"relu\")(hidden1)\n",
        "concat = tf.keras.layers.concatenate([norm_wide, hidden2])\n",
        "output = tf.keras.layers.Dense(1)(concat)\n",
        "model = tf.keras.Model(inputs=[input_wide, input_deep], outputs=[output])"
      ],
      "metadata": {
        "id": "ngY1QH3o_2ty"
      },
      "execution_count": 15,
      "outputs": []
    },
    {
      "cell_type": "code",
      "source": [
        "optimizer = tf.keras.optimizers.Adam(learning_rate=1e-3)\n",
        "model.compile(loss=\"mse\", optimizer=optimizer, metrics=[\"RootMeanSquaredError\"])\n",
        "\n",
        "# Reshape input data to ensure compatibility (if necessary)\n",
        "X_train = X_train.reshape(X_train.shape[0], -1)\n",
        "X_valid = X_valid.reshape(X_valid.shape[0], -1)\n",
        "X_test = X_test.reshape(X_test.shape[0], -1)\n",
        "\n",
        "# Split data\n",
        "X_train_wide, X_train_deep = X_train[:, :5], X_train[:, 2:8]\n",
        "X_valid_wide, X_valid_deep = X_valid[:, :5], X_valid[:, 2:8]\n",
        "X_test_wide, X_test_deep = X_test[:, :5], X_test[:, 2:8]\n",
        "X_new_wide, X_new_deep = X_test_wide[:3], X_test_deep[:3]\n",
        "\n",
        "norm_layer_wide.adapt(X_train_wide)\n",
        "norm_layer_deep.adapt(X_train_deep)\n",
        "history = model.fit((X_train_wide, X_train_deep), y_train, epochs=20,\n",
        "                    validation_data=((X_valid_wide, X_valid_deep), y_valid))\n",
        "mse_test = model.evaluate((X_test_wide, X_test_deep), y_test)\n",
        "y_pred = model.predict((X_new_wide, X_new_deep))"
      ],
      "metadata": {
        "colab": {
          "base_uri": "https://localhost:8080/"
        },
        "id": "qsJBvY-nBBqD",
        "outputId": "e748fc75-786a-4b60-80a3-5639a6ab5540"
      },
      "execution_count": 16,
      "outputs": [
        {
          "output_type": "stream",
          "name": "stdout",
          "text": [
            "Epoch 1/20\n",
            "\u001b[1m1719/1719\u001b[0m \u001b[32m━━━━━━━━━━━━━━━━━━━━\u001b[0m\u001b[37m\u001b[0m \u001b[1m4s\u001b[0m 2ms/step - RootMeanSquaredError: 3.4504 - loss: 12.2497 - val_RootMeanSquaredError: 2.7968 - val_loss: 7.8219\n",
            "Epoch 2/20\n",
            "\u001b[1m1719/1719\u001b[0m \u001b[32m━━━━━━━━━━━━━━━━━━━━\u001b[0m\u001b[37m\u001b[0m \u001b[1m3s\u001b[0m 2ms/step - RootMeanSquaredError: 2.7843 - loss: 7.7526 - val_RootMeanSquaredError: 2.7880 - val_loss: 7.7727\n",
            "Epoch 3/20\n",
            "\u001b[1m1719/1719\u001b[0m \u001b[32m━━━━━━━━━━━━━━━━━━━━\u001b[0m\u001b[37m\u001b[0m \u001b[1m3s\u001b[0m 2ms/step - RootMeanSquaredError: 2.7715 - loss: 7.6812 - val_RootMeanSquaredError: 2.7810 - val_loss: 7.7341\n",
            "Epoch 4/20\n",
            "\u001b[1m1719/1719\u001b[0m \u001b[32m━━━━━━━━━━━━━━━━━━━━\u001b[0m\u001b[37m\u001b[0m \u001b[1m5s\u001b[0m 2ms/step - RootMeanSquaredError: 2.7645 - loss: 7.6427 - val_RootMeanSquaredError: 2.7750 - val_loss: 7.7006\n",
            "Epoch 5/20\n",
            "\u001b[1m1719/1719\u001b[0m \u001b[32m━━━━━━━━━━━━━━━━━━━━\u001b[0m\u001b[37m\u001b[0m \u001b[1m5s\u001b[0m 2ms/step - RootMeanSquaredError: 2.7594 - loss: 7.6142 - val_RootMeanSquaredError: 2.7707 - val_loss: 7.6766\n",
            "Epoch 6/20\n",
            "\u001b[1m1719/1719\u001b[0m \u001b[32m━━━━━━━━━━━━━━━━━━━━\u001b[0m\u001b[37m\u001b[0m \u001b[1m4s\u001b[0m 2ms/step - RootMeanSquaredError: 2.7564 - loss: 7.5978 - val_RootMeanSquaredError: 2.7676 - val_loss: 7.6599\n",
            "Epoch 7/20\n",
            "\u001b[1m1719/1719\u001b[0m \u001b[32m━━━━━━━━━━━━━━━━━━━━\u001b[0m\u001b[37m\u001b[0m \u001b[1m4s\u001b[0m 2ms/step - RootMeanSquaredError: 2.7541 - loss: 7.5854 - val_RootMeanSquaredError: 2.7642 - val_loss: 7.6409\n",
            "Epoch 8/20\n",
            "\u001b[1m1719/1719\u001b[0m \u001b[32m━━━━━━━━━━━━━━━━━━━━\u001b[0m\u001b[37m\u001b[0m \u001b[1m5s\u001b[0m 2ms/step - RootMeanSquaredError: 2.7528 - loss: 7.5781 - val_RootMeanSquaredError: 2.7642 - val_loss: 7.6409\n",
            "Epoch 9/20\n",
            "\u001b[1m1719/1719\u001b[0m \u001b[32m━━━━━━━━━━━━━━━━━━━━\u001b[0m\u001b[37m\u001b[0m \u001b[1m6s\u001b[0m 2ms/step - RootMeanSquaredError: 2.7520 - loss: 7.5736 - val_RootMeanSquaredError: 2.7630 - val_loss: 7.6340\n",
            "Epoch 10/20\n",
            "\u001b[1m1719/1719\u001b[0m \u001b[32m━━━━━━━━━━━━━━━━━━━━\u001b[0m\u001b[37m\u001b[0m \u001b[1m4s\u001b[0m 2ms/step - RootMeanSquaredError: 2.7510 - loss: 7.5681 - val_RootMeanSquaredError: 2.7623 - val_loss: 7.6304\n",
            "Epoch 11/20\n",
            "\u001b[1m1719/1719\u001b[0m \u001b[32m━━━━━━━━━━━━━━━━━━━━\u001b[0m\u001b[37m\u001b[0m \u001b[1m3s\u001b[0m 2ms/step - RootMeanSquaredError: 2.7510 - loss: 7.5679 - val_RootMeanSquaredError: 2.7615 - val_loss: 7.6260\n",
            "Epoch 12/20\n",
            "\u001b[1m1719/1719\u001b[0m \u001b[32m━━━━━━━━━━━━━━━━━━━━\u001b[0m\u001b[37m\u001b[0m \u001b[1m4s\u001b[0m 2ms/step - RootMeanSquaredError: 2.7500 - loss: 7.5624 - val_RootMeanSquaredError: 2.7614 - val_loss: 7.6252\n",
            "Epoch 13/20\n",
            "\u001b[1m1719/1719\u001b[0m \u001b[32m━━━━━━━━━━━━━━━━━━━━\u001b[0m\u001b[37m\u001b[0m \u001b[1m4s\u001b[0m 2ms/step - RootMeanSquaredError: 2.7494 - loss: 7.5594 - val_RootMeanSquaredError: 2.7617 - val_loss: 7.6268\n",
            "Epoch 14/20\n",
            "\u001b[1m1719/1719\u001b[0m \u001b[32m━━━━━━━━━━━━━━━━━━━━\u001b[0m\u001b[37m\u001b[0m \u001b[1m3s\u001b[0m 2ms/step - RootMeanSquaredError: 2.7492 - loss: 7.5583 - val_RootMeanSquaredError: 2.7609 - val_loss: 7.6228\n",
            "Epoch 15/20\n",
            "\u001b[1m1719/1719\u001b[0m \u001b[32m━━━━━━━━━━━━━━━━━━━━\u001b[0m\u001b[37m\u001b[0m \u001b[1m6s\u001b[0m 2ms/step - RootMeanSquaredError: 2.7484 - loss: 7.5539 - val_RootMeanSquaredError: 2.7601 - val_loss: 7.6184\n",
            "Epoch 16/20\n",
            "\u001b[1m1719/1719\u001b[0m \u001b[32m━━━━━━━━━━━━━━━━━━━━\u001b[0m\u001b[37m\u001b[0m \u001b[1m4s\u001b[0m 2ms/step - RootMeanSquaredError: 2.7482 - loss: 7.5524 - val_RootMeanSquaredError: 2.7602 - val_loss: 7.6186\n",
            "Epoch 17/20\n",
            "\u001b[1m1719/1719\u001b[0m \u001b[32m━━━━━━━━━━━━━━━━━━━━\u001b[0m\u001b[37m\u001b[0m \u001b[1m5s\u001b[0m 2ms/step - RootMeanSquaredError: 2.7478 - loss: 7.5506 - val_RootMeanSquaredError: 2.7600 - val_loss: 7.6176\n",
            "Epoch 18/20\n",
            "\u001b[1m1719/1719\u001b[0m \u001b[32m━━━━━━━━━━━━━━━━━━━━\u001b[0m\u001b[37m\u001b[0m \u001b[1m4s\u001b[0m 2ms/step - RootMeanSquaredError: 2.7471 - loss: 7.5467 - val_RootMeanSquaredError: 2.7586 - val_loss: 7.6101\n",
            "Epoch 19/20\n",
            "\u001b[1m1719/1719\u001b[0m \u001b[32m━━━━━━━━━━━━━━━━━━━━\u001b[0m\u001b[37m\u001b[0m \u001b[1m3s\u001b[0m 2ms/step - RootMeanSquaredError: 2.7471 - loss: 7.5468 - val_RootMeanSquaredError: 2.7587 - val_loss: 7.6106\n",
            "Epoch 20/20\n",
            "\u001b[1m1719/1719\u001b[0m \u001b[32m━━━━━━━━━━━━━━━━━━━━\u001b[0m\u001b[37m\u001b[0m \u001b[1m5s\u001b[0m 2ms/step - RootMeanSquaredError: 2.7473 - loss: 7.5477 - val_RootMeanSquaredError: 2.7584 - val_loss: 7.6087\n",
            "\u001b[1m313/313\u001b[0m \u001b[32m━━━━━━━━━━━━━━━━━━━━\u001b[0m\u001b[37m\u001b[0m \u001b[1m0s\u001b[0m 1ms/step - RootMeanSquaredError: 2.7426 - loss: 7.5223\n",
            "\u001b[1m1/1\u001b[0m \u001b[32m━━━━━━━━━━━━━━━━━━━━\u001b[0m\u001b[37m\u001b[0m \u001b[1m0s\u001b[0m 82ms/step\n"
          ]
        }
      ]
    },
    {
      "cell_type": "markdown",
      "source": [
        "## Fine-Tuning Neural Network Hyperparameters\n",
        "One way to fine-tune the hyperparameters is to convert the Keras model to a Scikit-Learn estimator and then use `GridSearchCV` or `RandomizedSearchCV` to fine-tune the hyperparametts. <br><br>\n",
        "However, a better way to fine-tune Keras models is by using the Keras Tuner library."
      ],
      "metadata": {
        "id": "QicqbkDJDQWB"
      }
    },
    {
      "cell_type": "markdown",
      "source": [
        "The following function builds and compiles an MLP to classify Fashion MNIST images using hyperparameters such as the number of hidden layers (n_hidden), the number of neurons per layer (n_neurons), the learning rate (learning_rate) and the type of optimizer to use (optimizer):"
      ],
      "metadata": {
        "id": "xHA-GI73EV17"
      }
    },
    {
      "cell_type": "code",
      "source": [
        "import keras_tuner as kt\n",
        "\n",
        "def build_model(hp):\n",
        "    n_hidden = hp.Int(\"n_hidden\", min_value=0, max_value=8, default=2)\n",
        "    n_neurons = hp.Int(\"n_neurons\", min_value=16, max_value=256)\n",
        "    learning_rate = hp.Float(\"learning_rate\", min_value=1e-4, max_value=1e-2,\n",
        "                             sampling=\"log\")\n",
        "    optimizer = hp.Choice(\"optimizer\", values=[\"sgd\", \"adam\"])\n",
        "    if optimizer == \"sgd\":\n",
        "        optimizer = tf.keras.optimizers.SGD(learning_rate=learning_rate)\n",
        "    else:\n",
        "        optimizer = tf.keras.optimizers.Adam(learning_rate=learning_rate)\n",
        "\n",
        "    model = tf.keras.Sequential()\n",
        "    model.add(tf.keras.layers.Flatten())\n",
        "    for _ in range(n_hidden):\n",
        "        model.add(tf.keras.layers.Dense(n_neurons, activation=\"relu\"))\n",
        "    model.add(tf.keras.layers.Dense(10, activation=\"softmax\"))\n",
        "    model.compile(loss=\"sparse_categorical_crossentropy\", optimizer=optimizer,\n",
        "                  metrics=[\"accuracy\"])\n",
        "    return model"
      ],
      "metadata": {
        "id": "vzD4Dm3YBidb"
      },
      "execution_count": 17,
      "outputs": []
    },
    {
      "cell_type": "markdown",
      "source": [
        "To do a basic random search, create a `kt.RandomSearch` tuner, passing the `build_model` function to the constructor and call the tuner's `search` method:"
      ],
      "metadata": {
        "id": "oVOUPMH8FMlq"
      }
    },
    {
      "cell_type": "code",
      "source": [
        "# Flatten and normalize the input data\n",
        "X_train_full = X_train_full.reshape(-1, 784).astype(\"float32\") / 255.0\n",
        "X_test = X_test.reshape(-1, 784).astype(\"float32\") / 255.0\n",
        "X_train = X_train.reshape(-1, 784).astype(\"float32\") / 255.0\n",
        "X_valid = X_valid.reshape(-1, 784).astype(\"float32\") / 255.0\n",
        "\n",
        "# Random search tuner\n",
        "random_search_tuner = kt.RandomSearch(\n",
        "    build_model, objective=\"val_accuracy\", max_trials=5, overwrite=True,\n",
        "    directory=\"my_fashion_mnist\", project_name=\"my_rnd_search\", seed=42)\n",
        "random_search_tuner.search(X_train, y_train, epochs=10,\n",
        "                           validation_data=(X_valid, y_valid))"
      ],
      "metadata": {
        "colab": {
          "base_uri": "https://localhost:8080/"
        },
        "id": "uNNeXv4fEOgs",
        "outputId": "14ac5b80-f51a-4833-ac20-142ba73eaf6e"
      },
      "execution_count": 18,
      "outputs": [
        {
          "output_type": "stream",
          "name": "stdout",
          "text": [
            "Trial 5 Complete [00h 00m 50s]\n",
            "val_accuracy: 0.30559998750686646\n",
            "\n",
            "Best val_accuracy So Far: 0.8528000116348267\n",
            "Total elapsed time: 00h 04m 55s\n"
          ]
        }
      ]
    },
    {
      "cell_type": "markdown",
      "source": [
        "Since `objective` is set to `val_accuracy`, the tuner prefers models with a higher validation accuracy. The best models can be derived using:"
      ],
      "metadata": {
        "id": "8dCVEpUZF1D7"
      }
    },
    {
      "cell_type": "code",
      "source": [
        "top3_models = random_search_tuner.get_best_models(num_models=3)\n",
        "best_model = top3_models[0]"
      ],
      "metadata": {
        "colab": {
          "base_uri": "https://localhost:8080/"
        },
        "id": "_leH5wg9Fkjz",
        "outputId": "30e62e04-4de7-4d0e-efee-cd9728f62513"
      },
      "execution_count": 19,
      "outputs": [
        {
          "output_type": "stream",
          "name": "stderr",
          "text": [
            "/usr/local/lib/python3.10/dist-packages/keras/src/saving/saving_lib.py:713: UserWarning: Skipping variable loading for optimizer 'adam', because it has 2 variables whereas the saved optimizer has 22 variables. \n",
            "  saveable.load_own_variables(weights_store.get(inner_path))\n"
          ]
        }
      ]
    },
    {
      "cell_type": "markdown",
      "source": [
        "The best parameters can be derived using `get_best_hyperparameters`:"
      ],
      "metadata": {
        "id": "1Up60Tt2GMXp"
      }
    },
    {
      "cell_type": "code",
      "source": [
        "top3_params = random_search_tuner.get_best_hyperparameters(num_trials=3)\n",
        "top3_params[0].values # Best hyperparameter"
      ],
      "metadata": {
        "colab": {
          "base_uri": "https://localhost:8080/"
        },
        "id": "usTwTnzgGE9X",
        "outputId": "902e6cb9-a833-43db-be5c-fc72a1585536"
      },
      "execution_count": 20,
      "outputs": [
        {
          "output_type": "execute_result",
          "data": {
            "text/plain": [
              "{'n_hidden': 4,\n",
              " 'n_neurons': 74,\n",
              " 'learning_rate': 0.00905127409782462,\n",
              " 'optimizer': 'adam'}"
            ]
          },
          "metadata": {},
          "execution_count": 20
        }
      ]
    },
    {
      "cell_type": "markdown",
      "source": [
        "Each tuner is guided by a so-called *Oracle*: before each trial, the tuner asks the oracle to tell it what the next trial should be. The `RandomSearch` tuner uses a `RandomSearchOracle`. Since the oracle keeps track of all the trials, it can display the summary of the best trial using:"
      ],
      "metadata": {
        "id": "Jkvmod9MGlny"
      }
    },
    {
      "cell_type": "code",
      "source": [
        "best_trial = random_search_tuner.oracle.get_best_trials(num_trials=1)[0]\n",
        "best_trial.summary()"
      ],
      "metadata": {
        "colab": {
          "base_uri": "https://localhost:8080/"
        },
        "id": "M2EJLt9jGfbJ",
        "outputId": "e1d630c9-ae56-45dd-e8e0-d7aeec65a451"
      },
      "execution_count": 21,
      "outputs": [
        {
          "output_type": "stream",
          "name": "stdout",
          "text": [
            "Trial 2 summary\n",
            "Hyperparameters:\n",
            "n_hidden: 4\n",
            "n_neurons: 74\n",
            "learning_rate: 0.00905127409782462\n",
            "optimizer: adam\n",
            "Score: 0.8528000116348267\n"
          ]
        }
      ]
    },
    {
      "cell_type": "markdown",
      "source": [
        "The above output shows the best hyperparameters, as well as the validation accuracy."
      ],
      "metadata": {
        "id": "2cKFJYeAHGI4"
      }
    },
    {
      "cell_type": "markdown",
      "source": [
        "If satisfied with the best model's performance, continue training it for a few epochs on the full trianing set (X_train_full & y_train_full), then evaluate it on the test set:"
      ],
      "metadata": {
        "id": "ouN6csyuHPRv"
      }
    },
    {
      "cell_type": "code",
      "source": [
        "best_model.fit(X_train_full, y_train_full, epochs=10)\n",
        "test_loss, test_accuracy = best_model.evaluate(X_test, y_test)"
      ],
      "metadata": {
        "colab": {
          "base_uri": "https://localhost:8080/"
        },
        "id": "ECfhWWKPHOa8",
        "outputId": "9fb9421f-0266-41d8-b5f2-69c4163ea1aa"
      },
      "execution_count": 22,
      "outputs": [
        {
          "output_type": "stream",
          "name": "stdout",
          "text": [
            "Epoch 1/10\n",
            "\u001b[1m1875/1875\u001b[0m \u001b[32m━━━━━━━━━━━━━━━━━━━━\u001b[0m\u001b[37m\u001b[0m \u001b[1m8s\u001b[0m 4ms/step - accuracy: 0.7331 - loss: 5.6042\n",
            "Epoch 2/10\n",
            "\u001b[1m1875/1875\u001b[0m \u001b[32m━━━━━━━━━━━━━━━━━━━━\u001b[0m\u001b[37m\u001b[0m \u001b[1m5s\u001b[0m 3ms/step - accuracy: 0.7763 - loss: 0.7138\n",
            "Epoch 3/10\n",
            "\u001b[1m1875/1875\u001b[0m \u001b[32m━━━━━━━━━━━━━━━━━━━━\u001b[0m\u001b[37m\u001b[0m \u001b[1m6s\u001b[0m 3ms/step - accuracy: 0.7968 - loss: 0.7022\n",
            "Epoch 4/10\n",
            "\u001b[1m1875/1875\u001b[0m \u001b[32m━━━━━━━━━━━━━━━━━━━━\u001b[0m\u001b[37m\u001b[0m \u001b[1m6s\u001b[0m 3ms/step - accuracy: 0.8234 - loss: 0.5489\n",
            "Epoch 5/10\n",
            "\u001b[1m1875/1875\u001b[0m \u001b[32m━━━━━━━━━━━━━━━━━━━━\u001b[0m\u001b[37m\u001b[0m \u001b[1m11s\u001b[0m 3ms/step - accuracy: 0.8305 - loss: 0.5434\n",
            "Epoch 6/10\n",
            "\u001b[1m1875/1875\u001b[0m \u001b[32m━━━━━━━━━━━━━━━━━━━━\u001b[0m\u001b[37m\u001b[0m \u001b[1m9s\u001b[0m 3ms/step - accuracy: 0.8400 - loss: 0.4960\n",
            "Epoch 7/10\n",
            "\u001b[1m1875/1875\u001b[0m \u001b[32m━━━━━━━━━━━━━━━━━━━━\u001b[0m\u001b[37m\u001b[0m \u001b[1m10s\u001b[0m 3ms/step - accuracy: 0.8486 - loss: 0.4597\n",
            "Epoch 8/10\n",
            "\u001b[1m1875/1875\u001b[0m \u001b[32m━━━━━━━━━━━━━━━━━━━━\u001b[0m\u001b[37m\u001b[0m \u001b[1m10s\u001b[0m 3ms/step - accuracy: 0.8365 - loss: 0.5254\n",
            "Epoch 9/10\n",
            "\u001b[1m1875/1875\u001b[0m \u001b[32m━━━━━━━━━━━━━━━━━━━━\u001b[0m\u001b[37m\u001b[0m \u001b[1m6s\u001b[0m 3ms/step - accuracy: 0.8481 - loss: 0.4732\n",
            "Epoch 10/10\n",
            "\u001b[1m1875/1875\u001b[0m \u001b[32m━━━━━━━━━━━━━━━━━━━━\u001b[0m\u001b[37m\u001b[0m \u001b[1m6s\u001b[0m 3ms/step - accuracy: 0.8011 - loss: 0.7991\n",
            "\u001b[1m313/313\u001b[0m \u001b[32m━━━━━━━━━━━━━━━━━━━━\u001b[0m\u001b[37m\u001b[0m \u001b[1m1s\u001b[0m 1ms/step - accuracy: 0.1001 - loss: 7.0100\n"
          ]
        }
      ]
    }
  ]
}